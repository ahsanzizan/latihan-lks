{
 "cells": [
  {
   "cell_type": "code",
   "execution_count": 55,
   "metadata": {},
   "outputs": [],
   "source": [
    "import numpy as np\n",
    "import pandas as pd"
   ]
  },
  {
   "cell_type": "markdown",
   "metadata": {},
   "source": [
    "## Word Weighting"
   ]
  },
  {
   "cell_type": "code",
   "execution_count": 56,
   "metadata": {},
   "outputs": [],
   "source": [
    "# Documents\n",
    "documents = [\n",
    "    \"The cat sat on the mat\",\n",
    "    \"The dog jumped over the fence\",\n",
    "    \"The cat and the dog are friends\",\n",
    "    \"Cat and dog live in the same house\",\n",
    "    \"They both got angry\"\n",
    "]"
   ]
  },
  {
   "cell_type": "code",
   "execution_count": 57,
   "metadata": {},
   "outputs": [],
   "source": [
    "labels = ['cat', 'dog', 'both', 'both', 'both'] # Set the labels for each array"
   ]
  },
  {
   "cell_type": "code",
   "execution_count": 58,
   "metadata": {},
   "outputs": [
    {
     "data": {
      "text/html": [
       "<div>\n",
       "<style scoped>\n",
       "    .dataframe tbody tr th:only-of-type {\n",
       "        vertical-align: middle;\n",
       "    }\n",
       "\n",
       "    .dataframe tbody tr th {\n",
       "        vertical-align: top;\n",
       "    }\n",
       "\n",
       "    .dataframe thead th {\n",
       "        text-align: right;\n",
       "    }\n",
       "</style>\n",
       "<table border=\"1\" class=\"dataframe\">\n",
       "  <thead>\n",
       "    <tr style=\"text-align: right;\">\n",
       "      <th></th>\n",
       "      <th>text</th>\n",
       "    </tr>\n",
       "  </thead>\n",
       "  <tbody>\n",
       "    <tr>\n",
       "      <th>0</th>\n",
       "      <td>The cat sat on the mat</td>\n",
       "    </tr>\n",
       "    <tr>\n",
       "      <th>1</th>\n",
       "      <td>The dog jumped over the fence</td>\n",
       "    </tr>\n",
       "    <tr>\n",
       "      <th>2</th>\n",
       "      <td>The cat and the dog are friends</td>\n",
       "    </tr>\n",
       "    <tr>\n",
       "      <th>3</th>\n",
       "      <td>Cat and dog live in the same house</td>\n",
       "    </tr>\n",
       "    <tr>\n",
       "      <th>4</th>\n",
       "      <td>They both got angry</td>\n",
       "    </tr>\n",
       "  </tbody>\n",
       "</table>\n",
       "</div>"
      ],
      "text/plain": [
       "                                 text\n",
       "0              The cat sat on the mat\n",
       "1       The dog jumped over the fence\n",
       "2     The cat and the dog are friends\n",
       "3  Cat and dog live in the same house\n",
       "4                 They both got angry"
      ]
     },
     "execution_count": 58,
     "metadata": {},
     "output_type": "execute_result"
    }
   ],
   "source": [
    "data = pd.DataFrame(documents, columns=['text'])\n",
    "data.head()"
   ]
  },
  {
   "cell_type": "code",
   "execution_count": 59,
   "metadata": {},
   "outputs": [],
   "source": [
    "data['labels'] = labels"
   ]
  },
  {
   "cell_type": "code",
   "execution_count": 60,
   "metadata": {},
   "outputs": [
    {
     "data": {
      "text/html": [
       "<div>\n",
       "<style scoped>\n",
       "    .dataframe tbody tr th:only-of-type {\n",
       "        vertical-align: middle;\n",
       "    }\n",
       "\n",
       "    .dataframe tbody tr th {\n",
       "        vertical-align: top;\n",
       "    }\n",
       "\n",
       "    .dataframe thead th {\n",
       "        text-align: right;\n",
       "    }\n",
       "</style>\n",
       "<table border=\"1\" class=\"dataframe\">\n",
       "  <thead>\n",
       "    <tr style=\"text-align: right;\">\n",
       "      <th></th>\n",
       "      <th>text</th>\n",
       "      <th>labels</th>\n",
       "    </tr>\n",
       "  </thead>\n",
       "  <tbody>\n",
       "    <tr>\n",
       "      <th>0</th>\n",
       "      <td>The cat sat on the mat</td>\n",
       "      <td>cat</td>\n",
       "    </tr>\n",
       "    <tr>\n",
       "      <th>1</th>\n",
       "      <td>The dog jumped over the fence</td>\n",
       "      <td>dog</td>\n",
       "    </tr>\n",
       "    <tr>\n",
       "      <th>2</th>\n",
       "      <td>The cat and the dog are friends</td>\n",
       "      <td>both</td>\n",
       "    </tr>\n",
       "    <tr>\n",
       "      <th>3</th>\n",
       "      <td>Cat and dog live in the same house</td>\n",
       "      <td>both</td>\n",
       "    </tr>\n",
       "    <tr>\n",
       "      <th>4</th>\n",
       "      <td>They both got angry</td>\n",
       "      <td>both</td>\n",
       "    </tr>\n",
       "  </tbody>\n",
       "</table>\n",
       "</div>"
      ],
      "text/plain": [
       "                                 text labels\n",
       "0              The cat sat on the mat    cat\n",
       "1       The dog jumped over the fence    dog\n",
       "2     The cat and the dog are friends   both\n",
       "3  Cat and dog live in the same house   both\n",
       "4                 They both got angry   both"
      ]
     },
     "execution_count": 60,
     "metadata": {},
     "output_type": "execute_result"
    }
   ],
   "source": [
    "data.head()"
   ]
  },
  {
   "cell_type": "code",
   "execution_count": 61,
   "metadata": {},
   "outputs": [],
   "source": [
    "word_set = set()\n",
    "for doc in documents:\n",
    "    words = doc.casefold().split()\n",
    "    word_set.update(words)"
   ]
  },
  {
   "cell_type": "code",
   "execution_count": 62,
   "metadata": {},
   "outputs": [
    {
     "data": {
      "text/plain": [
       "{'and',\n",
       " 'angry',\n",
       " 'are',\n",
       " 'both',\n",
       " 'cat',\n",
       " 'dog',\n",
       " 'fence',\n",
       " 'friends',\n",
       " 'got',\n",
       " 'house',\n",
       " 'in',\n",
       " 'jumped',\n",
       " 'live',\n",
       " 'mat',\n",
       " 'on',\n",
       " 'over',\n",
       " 'same',\n",
       " 'sat',\n",
       " 'the',\n",
       " 'they'}"
      ]
     },
     "execution_count": 62,
     "metadata": {},
     "output_type": "execute_result"
    }
   ],
   "source": [
    "word_set"
   ]
  },
  {
   "cell_type": "code",
   "execution_count": 63,
   "metadata": {},
   "outputs": [
    {
     "data": {
      "text/plain": [
       "{'they': 0,\n",
       " 'house': 1,\n",
       " 'both': 2,\n",
       " 'jumped': 3,\n",
       " 'and': 4,\n",
       " 'live': 5,\n",
       " 'cat': 6,\n",
       " 'in': 7,\n",
       " 'angry': 8,\n",
       " 'sat': 9,\n",
       " 'are': 10,\n",
       " 'friends': 11,\n",
       " 'got': 12,\n",
       " 'over': 13,\n",
       " 'the': 14,\n",
       " 'dog': 15,\n",
       " 'on': 16,\n",
       " 'same': 17,\n",
       " 'fence': 18,\n",
       " 'mat': 19}"
      ]
     },
     "execution_count": 63,
     "metadata": {},
     "output_type": "execute_result"
    }
   ],
   "source": [
    "word_to_index = {word: i for i, word in enumerate(word_set)}\n",
    "word_to_index"
   ]
  },
  {
   "cell_type": "code",
   "execution_count": 64,
   "metadata": {},
   "outputs": [
    {
     "data": {
      "text/plain": [
       "array([[0., 0., 0., 0., 0., 0., 0., 0., 0., 0., 0., 0., 0., 0., 0., 0.,\n",
       "        0., 0., 0., 0.],\n",
       "       [0., 0., 0., 0., 0., 0., 0., 0., 0., 0., 0., 0., 0., 0., 0., 0.,\n",
       "        0., 0., 0., 0.],\n",
       "       [0., 0., 0., 0., 0., 0., 0., 0., 0., 0., 0., 0., 0., 0., 0., 0.,\n",
       "        0., 0., 0., 0.],\n",
       "       [0., 0., 0., 0., 0., 0., 0., 0., 0., 0., 0., 0., 0., 0., 0., 0.,\n",
       "        0., 0., 0., 0.],\n",
       "       [0., 0., 0., 0., 0., 0., 0., 0., 0., 0., 0., 0., 0., 0., 0., 0.,\n",
       "        0., 0., 0., 0.]])"
      ]
     },
     "execution_count": 64,
     "metadata": {},
     "output_type": "execute_result"
    }
   ],
   "source": [
    "tfidf_matrix = np.zeros((len(documents), len(word_set)))\n",
    "tfidf_matrix"
   ]
  },
  {
   "cell_type": "code",
   "execution_count": 65,
   "metadata": {},
   "outputs": [],
   "source": [
    "for i, doc in enumerate(documents):\n",
    "    words = doc.casefold().split()\n",
    "    word_count = {word: words.count(word) for word in set(words)}\n",
    "    for word, count in word_count.items():\n",
    "        tf = count / len(words)\n",
    "        idf = np.log(len(documents) / (1 + sum(word in document for document in documents)))\n",
    "        tfidf_matrix[i, word_to_index[word]] = tf * idf"
   ]
  },
  {
   "cell_type": "code",
   "execution_count": 66,
   "metadata": {},
   "outputs": [
    {
     "data": {
      "text/plain": [
       "array([[0.        , 0.        , 0.        , 0.        , 0.        ,\n",
       "        0.        , 0.0851376 , 0.        , 0.        , 0.15271512,\n",
       "        0.        , 0.        , 0.        , 0.        , 0.        ,\n",
       "        0.        , 0.15271512, 0.        , 0.        , 0.15271512],\n",
       "       [0.        , 0.        , 0.        , 0.15271512, 0.        ,\n",
       "        0.        , 0.        , 0.        , 0.        , 0.        ,\n",
       "        0.        , 0.        , 0.        , 0.15271512, 0.        ,\n",
       "        0.03719059, 0.        , 0.        , 0.15271512, 0.        ],\n",
       "       [0.        , 0.        , 0.        , 0.        , 0.07297509,\n",
       "        0.        , 0.07297509, 0.        , 0.        , 0.        ,\n",
       "        0.13089868, 0.13089868, 0.        , 0.        , 0.        ,\n",
       "        0.03187765, 0.        , 0.        , 0.        , 0.        ],\n",
       "       [0.        , 0.11453634, 0.        , 0.        , 0.0638532 ,\n",
       "        0.11453634, 0.0638532 , 0.11453634, 0.        , 0.        ,\n",
       "        0.        , 0.        , 0.        , 0.        , 0.        ,\n",
       "        0.02789294, 0.        , 0.11453634, 0.        , 0.        ],\n",
       "       [0.40235948, 0.        , 0.22907268, 0.        , 0.        ,\n",
       "        0.        , 0.        , 0.        , 0.22907268, 0.        ,\n",
       "        0.        , 0.        , 0.22907268, 0.        , 0.        ,\n",
       "        0.        , 0.        , 0.        , 0.        , 0.        ]])"
      ]
     },
     "execution_count": 66,
     "metadata": {},
     "output_type": "execute_result"
    }
   ],
   "source": [
    "tfidf_matrix"
   ]
  },
  {
   "cell_type": "markdown",
   "metadata": {},
   "source": [
    "## KNN"
   ]
  },
  {
   "cell_type": "code",
   "execution_count": 67,
   "metadata": {},
   "outputs": [],
   "source": [
    "def cosine_similarity(a: np.ndarray, b: np.ndarray):\n",
    "    dot_product = np.dot(a, b)\n",
    "    norm_a = np.linalg.norm(a)\n",
    "    norm_b = np.linalg.norm(b)\n",
    "    return dot_product / (norm_a * norm_b)"
   ]
  },
  {
   "cell_type": "code",
   "execution_count": 68,
   "metadata": {},
   "outputs": [],
   "source": [
    "new_document = \"The cat and dog are playing together\""
   ]
  },
  {
   "cell_type": "code",
   "execution_count": 69,
   "metadata": {},
   "outputs": [],
   "source": [
    "new_words = new_document.casefold().split()"
   ]
  },
  {
   "cell_type": "code",
   "execution_count": 70,
   "metadata": {},
   "outputs": [
    {
     "data": {
      "text/plain": [
       "{'are': 1, 'the': 1, 'cat': 1, 'together': 1, 'dog': 1, 'and': 1, 'playing': 1}"
      ]
     },
     "execution_count": 70,
     "metadata": {},
     "output_type": "execute_result"
    }
   ],
   "source": [
    "new_word_count = {word: new_words.count(word) for word in set(new_words)}\n",
    "new_word_count"
   ]
  },
  {
   "cell_type": "code",
   "execution_count": 71,
   "metadata": {},
   "outputs": [
    {
     "data": {
      "text/plain": [
       "array([0., 0., 0., 0., 0., 0., 0., 0., 0., 0., 0., 0., 0., 0., 0., 0., 0.,\n",
       "       0., 0., 0.])"
      ]
     },
     "execution_count": 71,
     "metadata": {},
     "output_type": "execute_result"
    }
   ],
   "source": [
    "new_tfidf_vector = np.zeros(len(word_set))\n",
    "new_tfidf_vector"
   ]
  },
  {
   "cell_type": "code",
   "execution_count": 72,
   "metadata": {},
   "outputs": [
    {
     "data": {
      "text/plain": [
       "array([0.        , 0.        , 0.        , 0.        , 0.07297509,\n",
       "       0.        , 0.07297509, 0.        , 0.        , 0.        ,\n",
       "       0.13089868, 0.        , 0.        , 0.        , 0.        ,\n",
       "       0.03187765, 0.        , 0.        , 0.        , 0.        ])"
      ]
     },
     "execution_count": 72,
     "metadata": {},
     "output_type": "execute_result"
    }
   ],
   "source": [
    "for word, count in new_word_count.items():\n",
    "    if word in word_to_index:\n",
    "        tf = count / len(new_words)\n",
    "        idf = np.log(len(documents) / (1 + sum(word in document for document in documents)))\n",
    "        new_tfidf_vector[word_to_index[word]] = tf * idf\n",
    "new_tfidf_vector"
   ]
  },
  {
   "cell_type": "code",
   "execution_count": 73,
   "metadata": {},
   "outputs": [],
   "source": [
    "def predict_with_knn(new_vector: np.ndarray, tfidf_matrix: np.ndarray, labels: np.ndarray, k=3):\n",
    "    similarities = [cosine_similarity(new_vector, tfidf_vector) for tfidf_vector in tfidf_matrix]\n",
    "    top_indices = np.argsort(similarities)[-k:]\n",
    "    label_votes = [labels[i] for i in top_indices]\n",
    "    print(label_votes)\n",
    "    prediction = max(set(label_votes), key=label_votes.count)\n",
    "    return prediction"
   ]
  },
  {
   "cell_type": "code",
   "execution_count": 74,
   "metadata": {},
   "outputs": [
    {
     "name": "stdout",
     "output_type": "stream",
     "text": [
      "['cat', 'both', 'both']\n"
     ]
    }
   ],
   "source": [
    "prediction = predict_with_knn(new_tfidf_vector, tfidf_matrix, data['labels'].to_numpy())"
   ]
  },
  {
   "cell_type": "code",
   "execution_count": 75,
   "metadata": {},
   "outputs": [
    {
     "data": {
      "text/plain": [
       "'both'"
      ]
     },
     "execution_count": 75,
     "metadata": {},
     "output_type": "execute_result"
    }
   ],
   "source": [
    "prediction"
   ]
  }
 ],
 "metadata": {
  "kernelspec": {
   "display_name": "Python 3",
   "language": "python",
   "name": "python3"
  },
  "language_info": {
   "codemirror_mode": {
    "name": "ipython",
    "version": 3
   },
   "file_extension": ".py",
   "mimetype": "text/x-python",
   "name": "python",
   "nbconvert_exporter": "python",
   "pygments_lexer": "ipython3",
   "version": "3.9.13"
  }
 },
 "nbformat": 4,
 "nbformat_minor": 2
}
